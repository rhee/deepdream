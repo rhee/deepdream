{
 "cells": [
  {
   "cell_type": "code",
   "execution_count": null,
   "metadata": {
    "collapsed": true
   },
   "outputs": [],
   "source": [
    "%matplotlib inline"
   ]
  },
  {
   "cell_type": "code",
   "execution_count": null,
   "metadata": {
    "collapsed": false
   },
   "outputs": [],
   "source": [
    "from IPython.display import clear_output, display\n",
    "from PIL import Image"
   ]
  },
  {
   "cell_type": "code",
   "execution_count": null,
   "metadata": {
    "collapsed": false
   },
   "outputs": [],
   "source": [
    "image=Image.open(\"input01-orig.jpg\")\n",
    "display(image)\n",
    "image.width, image.height"
   ]
  },
  {
   "cell_type": "code",
   "execution_count": null,
   "metadata": {
    "collapsed": false,
    "scrolled": false
   },
   "outputs": [],
   "source": [
    "image"
   ]
  },
  {
   "cell_type": "code",
   "execution_count": null,
   "metadata": {
    "collapsed": false
   },
   "outputs": [],
   "source": [
    "!convert input01-orig.jpg -colorspace RGB -resize 3840x2160\\< -resize 640x360\\< -gravity center -background gray -extent 640x360 -colorspace sRGB input01.jpg\n",
    "_ = Image.open(\"input01.jpg\")\n",
    "display(_)\n",
    "_.width, _.height"
   ]
  },
  {
   "cell_type": "code",
   "execution_count": null,
   "metadata": {
    "collapsed": false
   },
   "outputs": [],
   "source": [
    "!convert input01-orig.jpg -colorspace RGB -resize 3840x2160\\< -resize 640x360^ -gravity center -background gray -extent 640x360 -colorspace sRGB input01.jpg\n",
    "_ = Image.open(\"input01.jpg\")\n",
    "display(_)\n",
    "_.width, _.height"
   ]
  },
  {
   "cell_type": "code",
   "execution_count": null,
   "metadata": {
    "collapsed": false
   },
   "outputs": [],
   "source": [
    "!convert input01-orig.jpg -colorspace RGB -resize 3840x2160\\< -resize 640x360\\> -gravity center -background gray -extent 640x360 -colorspace sRGB input01.jpg\n",
    "_ = Image.open(\"input01.jpg\")\n",
    "display(_)\n",
    "_.width, _.height"
   ]
  },
  {
   "cell_type": "code",
   "execution_count": null,
   "metadata": {
    "collapsed": true
   },
   "outputs": [],
   "source": []
  }
 ],
 "metadata": {
  "kernelspec": {
   "display_name": "Python 2",
   "language": "python",
   "name": "python2"
  },
  "language_info": {
   "codemirror_mode": {
    "name": "ipython",
    "version": 2
   },
   "file_extension": ".py",
   "mimetype": "text/x-python",
   "name": "python",
   "nbconvert_exporter": "python",
   "pygments_lexer": "ipython2",
   "version": "2.7.12"
  }
 },
 "nbformat": 4,
 "nbformat_minor": 0
}
