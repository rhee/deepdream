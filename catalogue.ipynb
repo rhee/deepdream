{
 "cells": [
  {
   "cell_type": "code",
   "execution_count": 1,
   "metadata": {
    "collapsed": true
   },
   "outputs": [],
   "source": [
    "%matplotlib inline"
   ]
  },
  {
   "cell_type": "code",
   "execution_count": 2,
   "metadata": {
    "collapsed": false
   },
   "outputs": [],
   "source": [
    "from __future__ import print_function\n",
    "import os"
   ]
  },
  {
   "cell_type": "code",
   "execution_count": 3,
   "metadata": {
    "collapsed": false
   },
   "outputs": [],
   "source": [
    "layers_dir = 'layer-by-layer'\n",
    "files_list = ','.join([os.path.join(layers_dir, v) for v in os.listdir(layers_dir) if v.endswith('.jpg')])"
   ]
  },
  {
   "cell_type": "code",
   "execution_count": 4,
   "metadata": {
    "collapsed": true
   },
   "outputs": [],
   "source": [
    "from IPython.core.display import HTML, Image, display"
   ]
  },
  {
   "cell_type": "code",
   "execution_count": 5,
   "metadata": {
    "collapsed": false,
    "scrolled": true
   },
   "outputs": [
    {
     "data": {
      "text/html": [
       "\n",
       "<iframe style=\"width:100%;border:0\" src=\"catalogue.template.html#layer-by-layer%2Finception_4c_5x5.jpg%2Clayer-by-layer%2Finception_4b_pool_proj.jpg%2Clayer-by-layer%2Finception_5b_pool.jpg%2Clayer-by-layer%2Finception_5a_5x5.jpg%2Clayer-by-layer%2Finception_4e_pool.jpg%2Clayer-by-layer%2Finception_4b_5x5_reduce.jpg%2Clayer-by-layer%2Finception_4e_3x3.jpg%2Clayer-by-layer%2Finception_3a_pool_proj.jpg%2Clayer-by-layer%2Finception_4b_3x3_reduce.jpg%2Clayer-by-layer%2Finception_3b_pool_proj.jpg%2Clayer-by-layer%2Fconv2_3x3_reduce.jpg%2Clayer-by-layer%2Fdata.jpg%2Clayer-by-layer%2Finput01.jpg%2Clayer-by-layer%2Finception_5b_output.jpg%2Clayer-by-layer%2Finception_4d_5x5.jpg%2Clayer-by-layer%2Finception_4e_3x3_reduce.jpg%2Clayer-by-layer%2Finception_4b_output.jpg%2Clayer-by-layer%2Finception_4a_3x3_reduce.jpg%2Clayer-by-layer%2Finception_3b_3x3_reduce.jpg%2Clayer-by-layer%2Finception_3b_5x5_reduce.jpg%2Clayer-by-layer%2Finception_4d_pool_proj.jpg%2Clayer-by-layer%2Finception_5b_5x5.jpg%2Clayer-by-layer%2Finception_5a_output.jpg%2Clayer-by-layer%2Finception_3b_pool.jpg%2Clayer-by-layer%2Finception_5a_3x3.jpg%2Clayer-by-layer%2Finception_4a_5x5.jpg%2Clayer-by-layer%2Fconv1_7x7_s2.jpg%2Clayer-by-layer%2Finception_5b_5x5_reduce.jpg%2Clayer-by-layer%2Finception_3a_3x3_reduce.jpg%2Clayer-by-layer%2Finception_4c_pool_proj.jpg%2Clayer-by-layer%2Finception_4d_3x3.jpg%2Clayer-by-layer%2Finception_4e_5x5_reduce.jpg%2Clayer-by-layer%2Fpool2_3x3_s2.jpg%2Clayer-by-layer%2Finception_4c_3x3.jpg%2Clayer-by-layer%2Finception_5b_3x3.jpg%2Clayer-by-layer%2Finception_5a_pool_proj.jpg%2Clayer-by-layer%2Finception_4a_5x5_reduce.jpg%2Clayer-by-layer%2Finception_5b_pool_proj.jpg%2Clayer-by-layer%2Finception_4c_1x1.jpg%2Clayer-by-layer%2Fconv2_3x3.jpg%2Clayer-by-layer%2Finception_4a_3x3.jpg%2Clayer-by-layer%2Finception_3a_5x5.jpg%2Clayer-by-layer%2Forig.jpg%2Clayer-by-layer%2Finception_3a_output.jpg%2Clayer-by-layer%2Finception_5a_3x3_reduce.jpg%2Clayer-by-layer%2Finception_4a_output.jpg%2Clayer-by-layer%2Finception_4e_pool_proj.jpg%2Clayer-by-layer%2Finception_4d_output.jpg%2Clayer-by-layer%2Finception_4a_1x1.jpg%2Clayer-by-layer%2Finception_5a_pool.jpg%2Clayer-by-layer%2Finception_4e_5x5.jpg%2Clayer-by-layer%2Fpool4_3x3_s2.jpg%2Clayer-by-layer%2Fpool3_3x3_s2.jpg%2Clayer-by-layer%2Finception_4b_5x5.jpg%2Clayer-by-layer%2Finception_5a_5x5_reduce.jpg%2Clayer-by-layer%2Finception_3a_1x1.jpg%2Clayer-by-layer%2Finception_4b_3x3.jpg%2Clayer-by-layer%2Finception_4a_pool.jpg%2Clayer-by-layer%2Finception_4b_pool.jpg%2Clayer-by-layer%2Finception_4e_output.jpg%2Clayer-by-layer%2Finception_4d_3x3_reduce.jpg%2Clayer-by-layer%2Finception_4d_1x1.jpg%2Clayer-by-layer%2Finception_4c_pool.jpg%2Clayer-by-layer%2Finception_3b_output.jpg%2Clayer-by-layer%2Finception_3a_5x5_reduce.jpg%2Clayer-by-layer%2Finception_3a_3x3.jpg%2Clayer-by-layer%2Finception_3b_3x3.jpg%2Clayer-by-layer%2Finception_4c_5x5_reduce.jpg%2Clayer-by-layer%2Finception_3a_pool.jpg%2Clayer-by-layer%2Finception_4d_5x5_reduce.jpg%2Clayer-by-layer%2Finception_5b_1x1.jpg%2Clayer-by-layer%2Fpool1_3x3_s2.jpg%2Clayer-by-layer%2Finception_4a_pool_proj.jpg%2Clayer-by-layer%2Finception_3b_1x1.jpg%2Clayer-by-layer%2Finception_4b_1x1.jpg%2Clayer-by-layer%2Finception_4c_output.jpg%2Clayer-by-layer%2Finception_4c_3x3_reduce.jpg%2Clayer-by-layer%2Fconv2_norm2.jpg%2Clayer-by-layer%2Finception_5a_1x1.jpg%2Clayer-by-layer%2Finception_4e_1x1.jpg%2Clayer-by-layer%2Finception_3b_5x5.jpg%2Clayer-by-layer%2Finception_4d_pool.jpg%2Clayer-by-layer%2Finception_5b_3x3_reduce.jpg%2Clayer-by-layer%2Fpool1_norm1.jpg\"\n",
       "  onload=\"javascript:this.style.height=this.contentWindow.document.body.scrollHeight+'px'\">\n",
       "</iframe>"
      ],
      "text/plain": [
       "<IPython.core.display.HTML object>"
      ]
     },
     "metadata": {},
     "output_type": "display_data"
    }
   ],
   "source": [
    "import urllib\n",
    "url = 'catalogue.template.html#' + urllib.quote_plus(files_list)\n",
    "display(HTML('''\n",
    "<iframe style=\"width:100%;border:0\" src=\"''' + url + '''\"\n",
    "  onload=\"javascript:this.style.height=this.contentWindow.document.body.scrollHeight+'px'\">\n",
    "</iframe>'''))"
   ]
  },
  {
   "cell_type": "code",
   "execution_count": null,
   "metadata": {
    "collapsed": true
   },
   "outputs": [],
   "source": []
  }
 ],
 "metadata": {
  "kernelspec": {
   "display_name": "Python 2",
   "language": "python",
   "name": "python2"
  },
  "language_info": {
   "codemirror_mode": {
    "name": "ipython",
    "version": 2
   },
   "file_extension": ".py",
   "mimetype": "text/x-python",
   "name": "python",
   "nbconvert_exporter": "python",
   "pygments_lexer": "ipython2",
   "version": "2.7.12"
  }
 },
 "nbformat": 4,
 "nbformat_minor": 0
}
